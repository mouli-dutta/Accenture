{
 "cells": [
  {
   "cell_type": "code",
   "execution_count": 1,
   "id": "28ae352e-9b00-4be0-b358-6da4c52863ae",
   "metadata": {},
   "outputs": [
    {
     "name": "stderr",
     "output_type": "stream",
     "text": [
      "[NbConvertApp] Converting notebook data_extractor.ipynb to script\n",
      "[NbConvertApp] Writing 2236 bytes to data_extractor.py\n"
     ]
    }
   ],
   "source": [
    "!jupyter nbconvert --to script data_extractor.ipynb"
   ]
  },
  {
   "cell_type": "code",
   "execution_count": 2,
   "id": "b6f297d3-6e34-4e65-914e-ba1a9be1d9c7",
   "metadata": {},
   "outputs": [],
   "source": [
    "from data_extractor import CSVReader, DataProcessor"
   ]
  },
  {
   "cell_type": "code",
   "execution_count": 5,
   "id": "b29bfaa8-eef3-4119-942d-8b3996a63797",
   "metadata": {},
   "outputs": [
    {
     "name": "stdout",
     "output_type": "stream",
     "text": [
      "Unique SIPs: \n",
      "     IP_Address\n",
      "0      10.0.0.3\n",
      "1  192.168.1.20\n",
      "2      10.0.0.1\n",
      "3      10.0.0.4\n",
      "4      10.0.0.5\n",
      "5   192.168.1.4\n",
      "6      10.0.0.2\n",
      "Successful login attempts: 11\n"
     ]
    }
   ],
   "source": [
    "df_original = CSVReader(\"security_log_1.csv\").read()\n",
    "df_new = CSVReader(\"security_log_2.csv\").read()\n",
    "\n",
    "sip_col = \"IP_Address\"\n",
    "event = \"Event\"\n",
    "\n",
    "df_original_ip_addr = DataProcessor.extract_columns(df_original, [sip_col, event])\n",
    "df_new_ip_addr = DataProcessor.extract_columns(df_new, [sip_col])\n",
    "\n",
    "\n",
    "unique_sip = DataProcessor.unique_column_value(df_original_ip_addr, df_new_ip_addr, sip_col)\n",
    "print(\"Unique SIPs: \")\n",
    "print(unique_sip)\n",
    "\n",
    "event_count = DataProcessor.count_event_occurrence(df_original_ip_addr, \"Event\", \"LOGIN_SUCCESS\")\n",
    "print(f\"Successful login attempts: {event_count}\")\n"
   ]
  },
  {
   "cell_type": "code",
   "execution_count": null,
   "id": "e90021ca-fc0c-49c5-baff-8dbcd684666c",
   "metadata": {},
   "outputs": [],
   "source": []
  }
 ],
 "metadata": {
  "kernelspec": {
   "display_name": "Python 3 (ipykernel)",
   "language": "python",
   "name": "python3"
  },
  "language_info": {
   "codemirror_mode": {
    "name": "ipython",
    "version": 3
   },
   "file_extension": ".py",
   "mimetype": "text/x-python",
   "name": "python",
   "nbconvert_exporter": "python",
   "pygments_lexer": "ipython3",
   "version": "3.11.3"
  }
 },
 "nbformat": 4,
 "nbformat_minor": 5
}
