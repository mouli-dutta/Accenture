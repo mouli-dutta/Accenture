{
 "cells": [
  {
   "cell_type": "code",
   "execution_count": 1,
   "id": "59145cd1-c5a5-4dbd-9830-9efdfb4552ea",
   "metadata": {},
   "outputs": [],
   "source": [
    "import csv\n",
    "import pandas as pd\n",
    "import ipaddress\n",
    "from typing import List, Dict, Any, Optional"
   ]
  },
  {
   "cell_type": "code",
   "execution_count": 2,
   "id": "add86db5-6615-427f-b972-c71a0dadbbdf",
   "metadata": {},
   "outputs": [],
   "source": [
    "class FileReader:\n",
    "    \"\"\"\n",
    "    Base class for file readers\n",
    "    \"\"\"\n",
    "    def __init__(self, file_path: str):\n",
    "        self.file_path = file_path\n",
    "\n",
    "    \"\"\"\n",
    "    Reads the file and returns a pandas dataframe.\n",
    "    Must be implemented by subclass.\n",
    "    \"\"\"\n",
    "    def read(self) -> pd.DataFrame:\n",
    "        raise NotInplementedError(\"Subclass must implement read method\")"
   ]
  },
  {
   "cell_type": "code",
   "execution_count": 3,
   "id": "62acd3a1-78c0-4c06-a71f-75946459223a",
   "metadata": {},
   "outputs": [],
   "source": [
    "class CSVReader(FileReader):\n",
    "    \"\"\"\n",
    "    Reads CSV files and returns a pandas dataframe\n",
    "    \"\"\"\n",
    "    def read(self) -> pd.DataFrame:\n",
    "        return pd.read_csv(self.file_path)\n",
    "    \n",
    "        "
   ]
  },
  {
   "cell_type": "code",
   "execution_count": 4,
   "id": "d7c6ca06-265f-4335-be93-c168028c430f",
   "metadata": {},
   "outputs": [],
   "source": [
    "class ExcelReader(FileReader):\n",
    "    \"\"\"\n",
    "    Reads Excel files and returns a pandas dataframe\n",
    "    \"\"\"\n",
    "    def read(self, sheet_name: Optional[int] = 0) -> pd.DataFrame:\n",
    "        return pd.read_excel(self.file_path, sheet_name=sheet_name)"
   ]
  },
  {
   "cell_type": "code",
   "execution_count": 5,
   "id": "eafbae10-bded-43e8-adf8-07ad0c22b4a0",
   "metadata": {},
   "outputs": [],
   "source": [
    "class DataProcessor:\n",
    "    \"\"\"\n",
    "    Class containing static methods for processing data.\n",
    "    \"\"\"\n",
    "    @staticmethod\n",
    "    def extract_columns(df: pd.DataFrame, columns: List[str]) -> pd.DataFrame:\n",
    "        \"\"\"\n",
    "        Extracts specified columns from a DataFrame\n",
    "        Returns an empty DataFrame if columns are not found.\n",
    "        \"\"\"\n",
    "        return df[columns] if set(columns).issubset(df.columns) else pd.DataFrame()\n",
    "\n",
    "\n",
    "    @staticmethod\n",
    "    def unique_column_value(df1: pd.DataFrame, df2: pd.DataFrame, column: str) -> pd.DataFrame:\n",
    "        \"\"\"\n",
    "        Compares a specified column between two DataFrames and returns unique values as a new DataFrame\n",
    "        \"\"\"\n",
    "        if column in df1.columns and column in df2.columns:\n",
    "            unique_values = set(df1[column]) - set(df2[column])\n",
    "            return pd.DataFrame({column: list(unique_values)})\n",
    "        return pd.DataFrame\n",
    "\n",
    "    @staticmethod\n",
    "    def count_event_occurrence(df: pd.DataFrame, event_column: str, event_value: str) -> int:\n",
    "        \"\"\"\n",
    "        Counts occurrences of a specified event in a given column of a DataFrame.\n",
    "        \"\"\"\n",
    "        if event_column in df.columns:\n",
    "            return (df[event_column] == event_value).sum()\n",
    "        return 0\n"
   ]
  },
  {
   "cell_type": "code",
   "execution_count": null,
   "id": "aa750a77-c5de-4975-bdee-8ad28ac83437",
   "metadata": {},
   "outputs": [],
   "source": []
  },
  {
   "cell_type": "code",
   "execution_count": null,
   "id": "6e5cffdd-53fd-44a1-b62c-706bd02860d6",
   "metadata": {},
   "outputs": [],
   "source": []
  },
  {
   "cell_type": "code",
   "execution_count": null,
   "id": "0eb016b1-2603-421d-b156-acecc0a2f709",
   "metadata": {},
   "outputs": [],
   "source": []
  },
  {
   "cell_type": "code",
   "execution_count": null,
   "id": "6e3ef51c-4d1a-4f56-9d46-bf2bcb401abc",
   "metadata": {},
   "outputs": [],
   "source": []
  }
 ],
 "metadata": {
  "kernelspec": {
   "display_name": "Python 3 (ipykernel)",
   "language": "python",
   "name": "python3"
  },
  "language_info": {
   "codemirror_mode": {
    "name": "ipython",
    "version": 3
   },
   "file_extension": ".py",
   "mimetype": "text/x-python",
   "name": "python",
   "nbconvert_exporter": "python",
   "pygments_lexer": "ipython3",
   "version": "3.11.3"
  }
 },
 "nbformat": 4,
 "nbformat_minor": 5
}
